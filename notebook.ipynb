{
 "cells": [
  {
   "cell_type": "code",
   "execution_count": 27,
   "id": "efe3e606",
   "metadata": {},
   "outputs": [],
   "source": [
    "from matplotlib import pyplot\n",
    "from singularite import isJStrict, group"
   ]
  },
  {
   "cell_type": "code",
   "execution_count": 31,
   "id": "a8589320",
   "metadata": {
    "scrolled": false
   },
   "outputs": [
    {
     "data": {
      "application/vnd.jupyter.widget-view+json": {
       "model_id": "817689f498094463987a651286eb5d1a",
       "version_major": 2,
       "version_minor": 0
      },
      "text/plain": [
       "Interactive function <function show at 0x16d574f40> with 1 widget\n",
       "  n: TransformIntSlider(value=2, description='n', min=2)"
      ]
     },
     "metadata": {},
     "output_type": "display_data"
    }
   ],
   "source": [
    "@interact\n",
    "def show(n = slider(2, 100)):\n",
    "    g = group(n)\n",
    "    pts = [(a, b) for a in g for b in g if isJStrict((n, a, b))]\n",
    "    pyplot.plot([x for (x, _) in pts], [y for (_, y) in pts], 'r*')\n",
    "    pyplot.xticks(g, g)\n",
    "    pyplot.yticks(g, g)\n",
    "    pyplot.show()"
   ]
  },
  {
   "cell_type": "code",
   "execution_count": 30,
   "id": "82014912",
   "metadata": {},
   "outputs": [
    {
     "data": {
      "application/vnd.jupyter.widget-view+json": {
       "model_id": "868b4a0502914041bbe8cf6ab5cc036b",
       "version_major": 2,
       "version_minor": 0
      },
      "text/plain": [
       "Interactive function <function show at 0x16d3c2980> with 1 widget\n",
       "  n: TransformIntSlider(value=7, description='n', min=7)"
      ]
     },
     "metadata": {},
     "output_type": "display_data"
    }
   ],
   "source": [
    "@interact\n",
    "def show(n = slider(7, 100)):\n",
    "    g = group(n)\n",
    "    pts = [(a, b) for a in g for b in g if n > a + b]\n",
    "    pyplot.plot([x for (x, _) in pts], [y for (_, y) in pts], 'rx')\n",
    "    pts = [(a, b) for a in g for b in g if n > a * b]\n",
    "    pyplot.plot([x for (x, _) in pts], [y for (_, y) in pts], 'b+')\n",
    "    pyplot.xticks(g, g); pyplot.yticks(g, g); pyplot.show()"
   ]
  }
 ],
 "metadata": {
  "kernelspec": {
   "display_name": "SageMath 9.8",
   "language": "sage",
   "name": "SageMath-9.8"
  },
  "language_info": {
   "codemirror_mode": {
    "name": "ipython",
    "version": 3
   },
   "file_extension": ".py",
   "mimetype": "text/x-python",
   "name": "python",
   "nbconvert_exporter": "python",
   "pygments_lexer": "ipython3",
   "version": "3.11.1"
  }
 },
 "nbformat": 4,
 "nbformat_minor": 5
}
