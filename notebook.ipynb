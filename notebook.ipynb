{
 "cells": [
  {
   "cell_type": "code",
   "execution_count": null,
   "id": "02b63ab0",
   "metadata": {
    "vscode": {
     "languageId": "python"
    }
   },
   "outputs": [],
   "source": [
    "from itertools import combinations\n",
    "from singularite import group, isJStrict\n",
    "\n",
    "def conj(n, xs):\n",
    "    return all(isJStrict(h, t) for (h, *t) in combinations((n, *xs), 2))\n",
    "\n",
    "for n in range(2, 100):\n",
    "    xss = combinations(group(n), 3)\n",
    "    for xs in xss:\n",
    "        if isJStrict(n, xs):\n",
    "            assert conj(n, xs)\n"
   ]
  },
  {
   "cell_type": "code",
   "execution_count": 8,
   "id": "70afbe9d",
   "metadata": {
    "vscode": {
     "languageId": "python"
    }
   },
   "outputs": [
    {
     "name": "stdout",
     "output_type": "stream",
     "text": [
      "True\n"
     ]
    },
    {
     "data": {
      "image/png": "[encoded data removed]",
      "text/plain": [
       "Graphics object consisting of 8 graphics primitives"
      ]
     },
     "metadata": {},
     "output_type": "display_data"
    }
   ],
   "source": [
    "from singularite import eclatements, coprime, group\n",
    "from itertools import combinations\n",
    "\n",
    "def g(n, xs):\n",
    "    d = dict()\n",
    "    stack = [(n, xs)]\n",
    "    while len(stack) > 0:\n",
    "        ni, bs = stack.pop()\n",
    "        if not coprime(ni, *bs):\n",
    "            return False\n",
    "        if set(bs) != {1}:  # not lisse\n",
    "            d[(ni, bs)] = [(mi, ci) for (mi, ci) in eclatements(ni, bs)]\n",
    "            for cs in eclatements(ni, bs):\n",
    "                stack.append(cs)\n",
    "    return DiGraph(d)\n",
    "\n",
    "\n",
    "def t(n, xs, d=0):\n",
    "    children = [t(ni, bi, d + 1) for (ni, bi) in eclatements(n, xs)]\n",
    "    return LabelledOrderedTree(children, label = (n, *xs, d))\n",
    "\n",
    "print(isJStrict(11, (3, 2)))\n",
    "show(t(11, (3, 2)).plot())"
   ]
  },
  {
   "cell_type": "code",
   "execution_count": 19,
   "id": "c9d45121",
   "metadata": {
    "vscode": {
     "languageId": "python"
    }
   },
   "outputs": [
    {
     "name": "stdout",
     "output_type": "stream",
     "text": [
      "False\n"
     ]
    },
    {
     "data": {
      "image/png": "[encoded data removed]",
      "text/plain": [
       "Graphics object consisting of 10 graphics primitives"
      ]
     },
     "metadata": {},
     "output_type": "display_data"
    }
   ],
   "source": [
    "from singularite import eclatements, pairwise_coprime, isJStrict\n",
    "\n",
    "\n",
    "def ok(n, xs):\n",
    "    if all(x <= 1 for x in xs):\n",
    "        return True\n",
    "    return pairwise_coprime((n, *xs))\n",
    "\n",
    "\n",
    "def T(n, xs):\n",
    "    children, bad = [], set()\n",
    "    if ok(n, xs):\n",
    "        for (ni, xi) in eclatements(n, xs):\n",
    "            subt, subs = T(ni, xi)\n",
    "            children.append(subt)\n",
    "            bad |= subs\n",
    "    else:\n",
    "        bad |= {(n, *xs)}\n",
    "    return (LabelledOrderedTree(children, label=(n, *xs)), bad)\n",
    "\n",
    "\n",
    "n, r = 5, (17, 4)\n",
    "print(isJStrict(n, r))\n",
    "t, b = T(n, r)\n",
    "if len(b) == 0:\n",
    "    view(t)\n",
    "else:\n",
    "    show(t.as_digraph().plot(vertex_color='green', vertex_colors={'red': b, 'cyan': {(n, *r)}}))"
   ]
  },
  {
   "cell_type": "code",
   "execution_count": null,
   "id": "f59e9b73",
   "metadata": {
    "vscode": {
     "languageId": "python"
    }
   },
   "outputs": [],
   "source": [
    "a, b = 1, 1\n",
    "\n",
    "for _ in range(10):\n",
    "    a, b = b, a + b\n",
    "    print(a, b, a + b, isJStrict(a + b, (a, b)))"
   ]
  },
  {
   "cell_type": "code",
   "execution_count": 18,
   "id": "1886a1d9",
   "metadata": {
    "vscode": {
     "languageId": "python"
    }
   },
   "outputs": [
    {
     "name": "stdout",
     "output_type": "stream",
     "text": [
      "[4, 17]\n"
     ]
    }
   ],
   "source": [
    "\n",
    "def choix(n, xs):\n",
    "    bs = [xs[0]]\n",
    "    for i in range(1, len(xs)):\n",
    "        bs.append(crt([xs[i]] + i*[1], [n] + bs))\n",
    "    return bs\n",
    "\n",
    "print(choix(5, [4,2]))"
   ]
  },
  {
   "cell_type": "code",
   "execution_count": 33,
   "id": "94d7d6a7",
   "metadata": {
    "vscode": {
     "languageId": "python"
    }
   },
   "outputs": [],
   "source": [
    "l = LabelledBinaryTree([], label='(-n, b)_a')\n",
    "r = LabelledBinaryTree([], label='(a, -n)_b')\n",
    "p = LabelledBinaryTree([l, r], label='(a, b)_n')\n",
    "view(p)\n",
    "\n",
    "l = LabelledOrderedTree([], label='(-n)_a')\n",
    "p = LabelledOrderedTree([l], label='(a)_n')\n",
    "view(p)"
   ]
  }
 ],
 "metadata": {
  "kernelspec": {
   "display_name": "SageMath 9.8",
   "language": "sage",
   "name": "SageMath-9.8"
  },
  "language_info": {
   "codemirror_mode": {
    "name": "ipython",
    "version": 3
   },
   "file_extension": ".py",
   "mimetype": "text/x-python",
   "name": "sage",
   "nbconvert_exporter": "python",
   "pygments_lexer": "ipython3",
   "version": "3.11.1"
  }
 },
 "nbformat": 4,
 "nbformat_minor": 5
}
