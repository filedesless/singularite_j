{
 "cells": [
  {
   "cell_type": "code",
   "execution_count": 1,
   "id": "efe3e606",
   "metadata": {},
   "outputs": [],
   "source": [
    "from matplotlib import pyplot\n",
    "from singularite import isJStrict, group"
   ]
  },
  {
   "cell_type": "code",
   "execution_count": 2,
   "id": "a8589320",
   "metadata": {
    "scrolled": false
   },
   "outputs": [
    {
     "data": {
      "application/vnd.jupyter.widget-view+json": {
       "model_id": "1d46f20b613f4133bdff0a72fd0088aa",
       "version_major": 2,
       "version_minor": 0
      },
      "text/plain": [
       "Interactive function <function show at 0x15e27e340> with 1 widget\n",
       "  n: TransformIntSlider(value=2, description='n', min=2)"
      ]
     },
     "metadata": {},
     "output_type": "display_data"
    }
   ],
   "source": [
    "@interact\n",
    "def show(n = slider(2, 100)):\n",
    "    g = group(n)\n",
    "    pts = [(a, b) for a in g for b in g if isJStrict((n, a, b))]\n",
    "    pyplot.plot([x for (x, _) in pts], [y for (_, y) in pts], 'r*')\n",
    "    pyplot.xticks(g, g)\n",
    "    pyplot.yticks(g, g)\n",
    "    pyplot.show()"
   ]
  },
  {
   "cell_type": "code",
   "execution_count": 3,
   "id": "82014912",
   "metadata": {},
   "outputs": [
    {
     "data": {
      "application/vnd.jupyter.widget-view+json": {
       "model_id": "743253255d034cbba1f39d6b1b49f621",
       "version_major": 2,
       "version_minor": 0
      },
      "text/plain": [
       "Interactive function <function show at 0x167cb1940> with 1 widget\n",
       "  n: TransformIntSlider(value=7, description='n', min=7)"
      ]
     },
     "metadata": {},
     "output_type": "display_data"
    }
   ],
   "source": [
    "@interact\n",
    "def show(n = slider(7, 100)):\n",
    "    g = group(n)\n",
    "    pts = [(a, b) for a in g for b in g if n > a + b]\n",
    "    pyplot.plot([x for (x, _) in pts], [y for (_, y) in pts], 'rx')\n",
    "    pts = [(a, b) for a in g for b in g if n > a * b]\n",
    "    pyplot.plot([x for (x, _) in pts], [y for (_, y) in pts], 'b+')\n",
    "    pyplot.xticks(g, g); pyplot.yticks(g, g); pyplot.show()"
   ]
  },
  {
   "cell_type": "code",
   "execution_count": 4,
   "id": "8dd8ee4b",
   "metadata": {},
   "outputs": [
    {
     "data": {
      "application/vnd.jupyter.widget-view+json": {
       "model_id": "a55783421ec74c66ab22f92134eef617",
       "version_major": 2,
       "version_minor": 0
      },
      "text/plain": [
       "Interactive function <function show at 0x167bffb00> with 1 widget\n",
       "  n: TransformIntSlider(value=2, description='n', max=30, min=2)"
      ]
     },
     "metadata": {},
     "output_type": "display_data"
    }
   ],
   "source": [
    "from math import gcd\n",
    "\n",
    "@interact\n",
    "def show(n = slider(2, 30)):\n",
    "    g = group(n)\n",
    "    pts = [(a, b) for a in range(1, n) for b in range(1, n) if [(p, q) for p in range(n) for q in range(n) if gcd(a + p*n, b + q*n) == 1]]\n",
    "    pyplot.plot([x for (x, _) in pts], [y for (_, y) in pts], 'rx')\n",
    "    # pts = [(a, b) for a in g for b in g if gcd(a, b) == 1]\n",
    "    pts = [(a, b) for a in range(1, n) for b in range(1, n) if a in g or b in g ]\n",
    "    pyplot.plot([x for (x, _) in pts], [y for (_, y) in pts], 'b*')\n",
    "    pyplot.xticks(g, g); pyplot.yticks(g, g); pyplot.show()"
   ]
  },
  {
   "cell_type": "code",
   "execution_count": 13,
   "id": "2841358d",
   "metadata": {},
   "outputs": [
    {
     "data": {
      "application/vnd.jupyter.widget-view+json": {
       "model_id": "51b9b132a5e1450a84f5ba62acdfcf7b",
       "version_major": 2,
       "version_minor": 0
      },
      "text/plain": [
       "Interactive function <function view_gcd at 0x1690bc360> with 1 widget\n",
       "  n: TransformIntSlider(value=2, description='n', max=30, min=2)"
      ]
     },
     "metadata": {},
     "output_type": "display_data"
    }
   ],
   "source": [
    "@interact\n",
    "def view_gcd(n = slider(2, 30)):\n",
    "    g = group(n)\n",
    "    return list_plot3d([(a, b, gcd(a, b)) for a in g for b in g if a <= b])\n",
    "\n",
    "    "
   ]
  }
 ],
 "metadata": {
  "kernelspec": {
   "display_name": "SageMath 9.8",
   "language": "sage",
   "name": "sagemath-9.8"
  },
  "language_info": {
   "codemirror_mode": {
    "name": "ipython",
    "version": 3
   },
   "file_extension": ".py",
   "mimetype": "text/x-python",
   "name": "python",
   "nbconvert_exporter": "python",
   "pygments_lexer": "ipython3",
   "version": "3.11.1"
  }
 },
 "nbformat": 4,
 "nbformat_minor": 5
}
