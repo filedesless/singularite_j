{
 "cells": [
  {
   "cell_type": "code",
   "execution_count": 1,
   "id": "efe3e606",
   "metadata": {},
   "outputs": [],
   "source": [
    "from matplotlib import pyplot\n",
    "from singularite import isJStrict, group\n",
    "from itertools import product"
   ]
  },
  {
   "cell_type": "code",
   "execution_count": 2,
   "id": "82014912",
   "metadata": {},
   "outputs": [
    {
     "data": {
      "application/vnd.jupyter.widget-view+json": {
       "model_id": "77a9575652e1464dac42846878b8391b",
       "version_major": 2,
       "version_minor": 0
      },
      "text/plain": [
       "Interactive function <function show at 0x168498680> with 1 widget\n",
       "  n: TransformIntSlider(value=7, description='n', min=7)"
      ]
     },
     "metadata": {},
     "output_type": "display_data"
    }
   ],
   "source": [
    "@interact\n",
    "def show(n = slider(7, 100)):\n",
    "    g = group(n)\n",
    "    pts = [(a, b) for a in g for b in g if n > a + b]\n",
    "    pyplot.plot([x for (x, _) in pts], [y for (_, y) in pts], 'rx')\n",
    "    pts = [(a, b) for a in g for b in g if n > a * b]\n",
    "    pyplot.plot([x for (x, _) in pts], [y for (_, y) in pts], 'b+')\n",
    "    pyplot.xticks(g, g); pyplot.yticks(g, g); pyplot.show()"
   ]
  },
  {
   "cell_type": "code",
   "execution_count": 3,
   "id": "8dd8ee4b",
   "metadata": {},
   "outputs": [
    {
     "data": {
      "application/vnd.jupyter.widget-view+json": {
       "model_id": "eaca533fef4c470cbfa235b0798c8f83",
       "version_major": 2,
       "version_minor": 0
      },
      "text/plain": [
       "Interactive function <function show at 0x1685060c0> with 1 widget\n",
       "  n: TransformIntSlider(value=2, description='n', max=30, min=2)"
      ]
     },
     "metadata": {},
     "output_type": "display_data"
    }
   ],
   "source": [
    "from math import gcd\n",
    "\n",
    "@interact\n",
    "def show(n = slider(2, 30)):\n",
    "    g = group(n)\n",
    "    pts = [(a, b) for a in range(1, n) for b in range(1, n) if [(p, q) for p in range(n) for q in range(n) if gcd(a + p*n, b + q*n) == 1]]\n",
    "    pyplot.plot([x for (x, _) in pts], [y for (_, y) in pts], 'rx')\n",
    "    # pts = [(a, b) for a in g for b in g if gcd(a, b) == 1]\n",
    "    pts = [(a, b) for a in range(1, n) for b in range(1, n) if a in g or b in g ]\n",
    "    pyplot.plot([x for (x, _) in pts], [y for (_, y) in pts], 'b*')\n",
    "    pyplot.xticks(g, g); pyplot.yticks(g, g); pyplot.show()"
   ]
  },
  {
   "cell_type": "code",
   "execution_count": 4,
   "id": "2841358d",
   "metadata": {},
   "outputs": [
    {
     "data": {
      "application/vnd.jupyter.widget-view+json": {
       "model_id": "0da31e5fdadf4308bd43292b1e8ed3a0",
       "version_major": 2,
       "version_minor": 0
      },
      "text/plain": [
       "Interactive function <function view_gcd at 0x168502ca0> with 1 widget\n",
       "  n: TransformIntSlider(value=2, description='n', max=30, min=2)"
      ]
     },
     "metadata": {},
     "output_type": "display_data"
    }
   ],
   "source": [
    "@interact\n",
    "def view_gcd(n = slider(2, 30)):\n",
    "    g = group(n)\n",
    "    return list_plot3d([(a, b, gcd(a, b)) for a in g for b in g if a <= b])\n",
    "\n",
    "    "
   ]
  },
  {
   "cell_type": "code",
   "execution_count": 6,
   "id": "dd9d8218",
   "metadata": {},
   "outputs": [
    {
     "data": {
      "application/vnd.jupyter.widget-view+json": {
       "model_id": "6fc00a919cc54885b3ce1b6a914b11c4",
       "version_major": 2,
       "version_minor": 0
      },
      "text/plain": [
       "Interactive function <function show at 0x1684cf420> with 1 widget\n",
       "  n: TransformIntSlider(value=2, description='n', min=2)"
      ]
     },
     "metadata": {},
     "output_type": "display_data"
    }
   ],
   "source": [
    "@interact\n",
    "def show(n = slider(2, 100)):\n",
    "    g = group(n)\n",
    "    pts = [(a, b) for a in g for b in g if isJStrict(n, (a, b))]\n",
    "    pyplot.plot([x for (x, _) in pts], [y for (_, y) in pts], 'r*')\n",
    "    pyplot.xticks(g, g)\n",
    "    pyplot.yticks(g, g)\n",
    "    pyplot.show()"
   ]
  },
  {
   "cell_type": "code",
   "execution_count": 10,
   "id": "ba9d6698",
   "metadata": {},
   "outputs": [
    {
     "data": {
      "application/vnd.jupyter.widget-view+json": {
       "model_id": "453bf1dfbd5148ee958cd285f5d47f35",
       "version_major": 2,
       "version_minor": 0
      },
      "text/plain": [
       "Interactive function <function vis3d at 0x168d90b80> with 1 widget\n",
       "  n: TransformIntSlider(value=2, description='n', min=2)"
      ]
     },
     "metadata": {},
     "output_type": "display_data"
    }
   ],
   "source": [
    "@interact\n",
    "def vis3d(n = slider(2, 100)):\n",
    "    pts = [p for p in product(group(n), repeat=3) if isJStrict(n, p)]\n",
    "    return sum ( point(p, size=100) for p in pts )"
   ]
  },
  {
   "cell_type": "code",
   "execution_count": 16,
   "id": "e07cd46f",
   "metadata": {},
   "outputs": [
    {
     "data": {
      "application/vnd.jupyter.widget-view+json": {
       "model_id": "2172cc4176ae422981c363430fd99ccc",
       "version_major": 2,
       "version_minor": 0
      },
      "text/plain": [
       "Interactive function <function prop1 at 0x16ac18d60> with 1 widget\n",
       "  n: TransformIntSlider(value=2, description='n', min=2)"
      ]
     },
     "metadata": {},
     "output_type": "display_data"
    }
   ],
   "source": [
    "@interact\n",
    "def prop1(n = slider(2, 100)):\n",
    "    return sum( point( (a, b) ) for (a, b) in product(range(1, n), repeat=2) if a + b == n)"
   ]
  },
  {
   "cell_type": "code",
   "execution_count": 22,
   "id": "77a6a24e",
   "metadata": {},
   "outputs": [
    {
     "data": {
      "application/vnd.jupyter.widget-view+json": {
       "model_id": "2895c03e4aec44f9b159823f55ba4e97",
       "version_major": 2,
       "version_minor": 0
      },
      "text/plain": [
       "Interactive function <function vis2in3d at 0x16e126d40> with 1 widget\n",
       "  N: TransformIntSlider(value=3, description='N', max=40, min=3)"
      ]
     },
     "metadata": {},
     "output_type": "display_data"
    }
   ],
   "source": [
    "@interact\n",
    "def vis2in3d(N = slider(3, 40)):\n",
    "    return sum( point( (a, b, n), size=100 )\n",
    "               for n in range(1, N)\n",
    "               for (a, b) in product(group(n), repeat=2) \n",
    "               if isJStrict(n, (a, b)))\n",
    "    "
   ]
  }
 ],
 "metadata": {
  "kernelspec": {
   "display_name": "SageMath 9.8",
   "language": "sage",
   "name": "SageMath-9.8"
  },
  "language_info": {
   "codemirror_mode": {
    "name": "ipython",
    "version": 3
   },
   "file_extension": ".py",
   "mimetype": "text/x-python",
   "name": "python",
   "nbconvert_exporter": "python",
   "pygments_lexer": "ipython3",
   "version": "3.11.1"
  }
 },
 "nbformat": 4,
 "nbformat_minor": 5
}
