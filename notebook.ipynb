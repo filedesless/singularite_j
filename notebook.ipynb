{
 "cells": [
  {
   "cell_type": "code",
   "execution_count": 5,
   "id": "a8589320",
   "metadata": {
    "scrolled": false
   },
   "outputs": [
    {
     "ename": "NameError",
     "evalue": "name 'interact' is not defined",
     "output_type": "error",
     "traceback": [
      "\u001b[0;31m---------------------------------------------------------------------------\u001b[0m",
      "\u001b[0;31mNameError\u001b[0m                                 Traceback (most recent call last)",
      "Cell \u001b[0;32mIn[5], line 5\u001b[0m\n\u001b[1;32m      2\u001b[0m \u001b[39mfrom\u001b[39;00m \u001b[39mmatplotlib\u001b[39;00m \u001b[39mimport\u001b[39;00m interactive\n\u001b[1;32m      3\u001b[0m \u001b[39mfrom\u001b[39;00m \u001b[39msingularite\u001b[39;00m \u001b[39mimport\u001b[39;00m isJStrict, group\n\u001b[0;32m----> 5\u001b[0m \u001b[39m@interact\u001b[39m\n\u001b[1;32m      6\u001b[0m \u001b[39mdef\u001b[39;00m \u001b[39mshow\u001b[39m(n \u001b[39m=\u001b[39m slider(\u001b[39m2\u001b[39m, \u001b[39m100\u001b[39m)):\n\u001b[1;32m      7\u001b[0m     g \u001b[39m=\u001b[39m group(n)\n\u001b[1;32m      8\u001b[0m     pts \u001b[39m=\u001b[39m [(a, b) \u001b[39mfor\u001b[39;00m a \u001b[39min\u001b[39;00m g \u001b[39mfor\u001b[39;00m b \u001b[39min\u001b[39;00m g \u001b[39mif\u001b[39;00m isJStrict((n, a, b))]\n",
      "\u001b[0;31mNameError\u001b[0m: name 'interact' is not defined"
     ]
    }
   ],
   "source": [
    "from matplotlib import pyplot\n",
    "from matplotlib import interactive\n",
    "from singularite import isJStrict, group\n",
    "\n",
    "@interact\n",
    "def show(n = slider(2, 100)):\n",
    "    g = group(n)\n",
    "    pts = [(a, b) for a in g for b in g if isJStrict((n, a, b))]\n",
    "    pyplot.plot([x for (x, _) in pts], [y for (_, y) in pts], 'r*')\n",
    "    pyplot.xticks(g, g)\n",
    "    pyplot.yticks(g, g)\n",
    "    pyplot.show()"
   ]
  },
  {
   "cell_type": "code",
   "execution_count": 3,
   "id": "82014912",
   "metadata": {},
   "outputs": [
    {
     "data": {
      "application/vnd.jupyter.widget-view+json": {
       "model_id": "318ae47514b94d889958802727839632",
       "version_major": 2,
       "version_minor": 0
      },
      "text/plain": [
       "Interactive function <function show at 0x10827cfe0> with 1 widget\n",
       "  n: TransformIntSlider(value=2, description='n', min=2)"
      ]
     },
     "metadata": {},
     "output_type": "display_data"
    }
   ],
   "source": [
    "from matplotlib import pyplot\n",
    "\n",
    "@interact\n",
    "def show(n = slider(2, 100)):\n",
    "    g = group(n)\n",
    "    pts = [(a, b) for a in g for b in g if [(p, q) for p in g for q in g if p*a + q*b == n]]\n",
    "    pyplot.plot([x for (x, _) in pts], [y for (_, y) in pts], 'r*')\n",
    "    pyplot.xticks(g, g)\n",
    "    pyplot.yticks(g, g)\n",
    "    pyplot.show()"
   ]
  }
 ],
 "metadata": {
  "kernelspec": {
   "display_name": "SageMath 9.8",
   "language": "sage",
   "name": "sagemath-9.8"
  },
  "language_info": {
   "codemirror_mode": {
    "name": "ipython",
    "version": 3
   },
   "file_extension": ".py",
   "mimetype": "text/x-python",
   "name": "python",
   "nbconvert_exporter": "python",
   "pygments_lexer": "ipython3",
   "version": "3.11.1"
  }
 },
 "nbformat": 4,
 "nbformat_minor": 5
}
