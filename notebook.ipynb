{
 "cells": [
  {
   "cell_type": "code",
   "execution_count": null,
   "id": "02b63ab0",
   "metadata": {},
   "outputs": [],
   "source": [
    "from itertools import combinations\n",
    "from singularite import group, isJStrict\n",
    "\n",
    "def conj(n, xs):\n",
    "    return all(isJStrict(h, t) for (h, *t) in combinations((n, *xs), 2))\n",
    "\n",
    "for n in range(2, 100):\n",
    "    xss = combinations(group(n), 3)\n",
    "    for xs in xss:\n",
    "        if isJStrict(n, xs):\n",
    "            assert conj(n, *.ipynb filter=strip-notebook-outputxs)\n"
   ]
  },
  {
   "cell_type": "code",
   "execution_count": null,
   "id": "70afbe9d",
   "metadata": {},
   "outputs": [],
   "source": [
    "from singularite import eclatements, coprime, group\n",
    "from itertools import combinations\n",
    "\n",
    "def g(n, xs):\n",
    "    d = dict()\n",
    "    stack = [(n, xs)]\n",
    "    while len(stack) > 0:\n",
    "        ni, bs = stack.pop()\n",
    "        if not coprime(ni, *bs):\n",
    "            return False\n",
    "        if set(bs) != {1}:  # not lisse\n",
    "            d[(ni, bs)] = [(mi, ci) for (mi, ci) in eclatements(ni, bs)]\n",
    "            for cs in eclatements(ni, bs):\n",
    "                stack.append(cs)\n",
    "    return DiGraph(d)\n",
    "\n",
    "\n",
    "def t(n, xs, d=0):\n",
    "    children = [t(ni, bi, d + 1) for (ni, bi) in eclatements(n, xs)]\n",
    "    return LabelledOrderedTree(children, label = (n, *xs, d))\n",
    "\n",
    "print(isJStrict(11, (3, 2)))\n",
    "show(t(11, (3, 2)).plot())"
   ]
  },
  {
   "cell_type": "code",
   "execution_count": null,
   "id": "c9d45121",
   "metadata": {},
   "outputs": [],
   "source": [
    "from singularite import eclatements, pairwise_coprime, isJStrict\n",
    "\n",
    "\n",
    "def ok(n, xs):\n",
    "    if all(x <= 1 for x in xs):\n",
    "        return True\n",
    "    return pairwise_coprime((n, *xs))\n",
    "\n",
    "\n",
    "def T(n, xs):\n",
    "    children, bad = [], set()\n",
    "    if ok(n, xs):\n",
    "        for (ni, xi) in eclatements(n, xs):\n",
    "            subt, subs = T(ni, xi)\n",
    "            children.append(subt)\n",
    "            bad |= subs\n",
    "    else:\n",
    "        bad |= {(n, *xs)}\n",
    "    return (LabelledOrderedTree(children, label=(n, *xs)), bad)\n",
    "\n",
    "\n",
    "n, r = 5, (17, 4)\n",
    "print(isJStrict(n, r))\n",
    "t, b = T(n, r)\n",
    "if len(b) == 0:\n",
    "    view(t)\n",
    "else:\n",
    "    show(t.as_digraph().plot(vertex_color='green', vertex_colors={'red': b, 'cyan': {(n, *r)}}))"
   ]
  },
  {
   "cell_type": "code",
   "execution_count": null,
   "id": "f59e9b73",
   "metadata": {},
   "outputs": [],
   "source": [
    "a, b = 1, 1\n",
    "\n",
    "for _ in range(10):\n",
    "    a, b = b, a + b\n",
    "    print(a, b, a + b, isJStrict(a + b, (a, b)))"
   ]
  },
  {
   "cell_type": "code",
   "execution_count": null,
   "id": "1886a1d9",
   "metadata": {},
   "outputs": [],
   "source": [
    "\n",
    "def choix(n, xs):\n",
    "    bs = [xs[0]]\n",
    "    for i in range(1, len(xs)):\n",
    "        bs.append(crt([xs[i]] + i*[1], [n] + bs))\n",
    "    return bs\n",
    "\n",
    "print(choix(5, [4,2]))"
   ]
  },
  {
   "cell_type": "code",
   "execution_count": null,
   "id": "94d7d6a7",
   "metadata": {},
   "outputs": [],
   "source": [
    "l = LabelledBinaryTree([], label='(-n, b)_a')\n",
    "r = LabelledBinaryTree([], label='(a, -n)_b')\n",
    "p = LabelledBinaryTree([l, r], label='(a, b)_n')\n",
    "view(p)\n",
    "\n",
    "l = LabelledOrderedTree([], label='(-n)_a')\n",
    "p = LabelledOrderedTree([l], label='(a)_n')\n",
    "view(p)"
   ]
  },
  {
   "cell_type": "code",
   "execution_count": null,
   "id": "c0a442c6",
   "metadata": {},
   "outputs": [],
   "source": [
    "from singularite import coprime, pairwise_coprime, isJStrict\n",
    "from itertools import combinations\n",
    "\n",
    "g = lambda n: { x for x in range(2, n) if coprime(x, n) }\n",
    "a, b = 5, 3\n",
    "for k in range(2, 100):\n",
    "    n = a+b+k*a*b\n",
    "    c = crt([1, 1], [a, b]) + a*b\n",
    "    if -n%c == 1:\n",
    "        print(n, a, b,c , isJStrict(n, (a, b)), isJStrict(n, (a, b, c)))\n",
    "\n"
   ]
  },
  {
   "cell_type": "code",
   "execution_count": null,
   "id": "df2d335d",
   "metadata": {},
   "outputs": [],
   "source": [
    "from itertools import permutations\n",
    "\n",
    "for n in range(50):\n",
    "    for (a, b, c) in combinations(g(n), 3):\n",
    "        if all(isJStrict(n, (x, y)) for (x, y) in combinations((a, b, c), 2)):\n",
    "            print(n, a, b, c)\n",
    "            vis_eval()"
   ]
  },
  {
   "cell_type": "code",
   "execution_count": null,
   "id": "4abe9d88",
   "metadata": {},
   "outputs": [],
   "source": [
    "from singularite import isJStrict, group, eclatements\n",
    "from itertools import combinations, permutations\n",
    "\n",
    "@interact\n",
    "def check(n = (2, 200)):\n",
    "    for (c, b, a) in combinations(set(group(n)) - {1}, 3):\n",
    "        ans = isJStrict(n, (a, b, c))\n",
    "        # print(n, (a, b, c), eclatements(n, (a, b, c)))\n",
    "        assert ans == all(isJStrict(x, (y, z)) for (x, y, z) in permutations([-n, a, b, c], int(3)))\n",
    "        # print(n, a, b, c, ans)\n",
    "        # assert ans == all([\n",
    "        #     all(isJStrict(a, (i, j)) for (i, j) in combinations([-n, b, c], 2)),\n",
    "        #     all(isJStrict(b, (i, j)) for (i, j) in combinations([a, -n, c], 2)),\n",
    "        #     all(isJStrict(c, (i, j)) for (i, j) in combinations([a, b, -n], 2))])\n",
    "    print('ok', n)"
   ]
  }
 ],
 "metadata": {
  "kernelspec": {
   "display_name": "SageMath 9.8",
   "language": "sage",
   "name": "SageMath-9.8"
  },
  "language_info": {
   "codemirror_mode": {
    "name": "ipython",
    "version": 3
   },
   "file_extension": ".py",
   "mimetype": "text/x-python",
   "name": "python",
   "nbconvert_exporter": "python",
   "pygments_lexer": "ipython3",
   "version": "3.11.1"
  }
 },
 "nbformat": 4,
 "nbformat_minor": 5
}
