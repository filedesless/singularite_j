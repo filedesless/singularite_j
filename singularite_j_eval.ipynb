{
 "cells": [
  {
   "cell_type": "code",
   "execution_count": 1,
   "metadata": {},
   "outputs": [],
   "source": [
    "from singularite import eclatements, pairwise_coprime, isJStrict\n",
    "\n",
    "\n",
    "def ok(n, xs):\n",
    "    if all(x <= 1 for x in xs):\n",
    "        return True\n",
    "    return pairwise_coprime((n, *xs))\n",
    "\n",
    "def to_tex(n, xs):\n",
    "    return f'{{[{xs}]}}_{{{n}}}'\n",
    "\n",
    "def to_s(n, xs):\n",
    "    return f'{xs}_{n}'\n",
    "\n",
    "def T(n, xs):\n",
    "    children, bad = [], set()\n",
    "    if ok(n, xs):\n",
    "        for (ni, xi) in eclatements(n, xs):\n",
    "            subt, subs = T(ni, xi)\n",
    "            children.append(subt)\n",
    "            bad |= subs\n",
    "    else:\n",
    "        bad |= {(n, xs)}\n",
    "    return (LabelledOrderedTree(children, label=(n, xs)), bad)"
   ]
  },
  {
   "cell_type": "code",
   "execution_count": 3,
   "metadata": {},
   "outputs": [],
   "source": [
    "def vis_eval(n, r):\n",
    "    uncurry = lambda f: lambda p: f(*p)\n",
    "    t, b = T(n, r)\n",
    "    assert isJStrict(n, r) == (len(b) == 0)\n",
    "    if len(b) == 0:\n",
    "        view(t.map_labels(uncurry(to_tex)))\n",
    "    else:\n",
    "        show(t.as_digraph().plot(vertex_color='green', vertex_colors={'red': b, 'cyan': [(n, r)]}, layout='acyclic', vertex_labels=uncurry(to_s)))\n",
    "\n",
    "\n",
    "# n, r =  23, (8, 5, 3)\n",
    "# vis_eval(143, (5, 3, 16))\n",
    "vis_eval(9, (8, 1))"
   ]
  },
  {
   "cell_type": "code",
   "execution_count": 8,
   "metadata": {},
   "outputs": [],
   "source": [
    "from singularite import pairwise_coprime, group, isJStrict\n",
    "from itertools import combinations\n",
    "\n",
    "def pred(n, a, b, c):\n",
    "    if a <= 1 or b <= 1 or c <= 1:\n",
    "        return False\n",
    "    if not pairwise_coprime([n, a, b, c]):\n",
    "        return False\n",
    "    # if not all(isJStrict(n, (i, j)) for (i, j) in combinations([a, b, c], 2)):\n",
    "    #     return False\n",
    "    if not all(isJStrict(a, (i, j)) for (i, j) in combinations([-n%a, b, c], 2)):\n",
    "        return False\n",
    "    if not all(isJStrict(b, (i, j)) for (i, j) in combinations([a%b, -n%b, c], 2)):\n",
    "        return False\n",
    "    if not all(isJStrict(c, (i, j)) for (i, j) in combinations([a%c, b%c, -n%c], 2)):\n",
    "        return False\n",
    "    return True\n",
    "\n",
    "# 41, (2, 3, 7)\n",
    "for n in range(2, 100):\n",
    "    for (a, b, c) in combinations(group(n), 3):\n",
    "        # if pred(n, a, b, c) and isJStrict(n, (a, b, c)):\n",
    "        if pred(n, a, b, c):\n",
    "            print(n, a, b, c)\n",
    "            vis_eval(n, (a, b, c))\n"
   ]
  },
  {
   "cell_type": "code",
   "execution_count": 1,
   "metadata": {},
   "outputs": [
    {
     "ename": "NameError",
     "evalue": "name 'vis_eval' is not defined",
     "output_type": "error",
     "traceback": [
      "\u001b[0;31m---------------------------------------------------------------------------\u001b[0m",
      "\u001b[0;31mNameError\u001b[0m                                 Traceback (most recent call last)",
      "\u001b[1;32m/Users/felix/src/singularite_j/singularite_j_eval.ipynb Cell 4\u001b[0m in \u001b[0;36m1\n\u001b[1;32m      <a href='vscode-notebook-cell:/Users/felix/src/singularite_j/singularite_j_eval.ipynb#W3sZmlsZQ%3D%3D?line=0'>1</a>\u001b[0m l \u001b[39m=\u001b[39m [\n\u001b[1;32m      <a href='vscode-notebook-cell:/Users/felix/src/singularite_j/singularite_j_eval.ipynb#W3sZmlsZQ%3D%3D?line=1'>2</a>\u001b[0m     (Integer(\u001b[39m59\u001b[39m), (Integer(\u001b[39m5\u001b[39m), Integer(\u001b[39m4\u001b[39m), Integer(\u001b[39m3\u001b[39m))),\n\u001b[1;32m      <a href='vscode-notebook-cell:/Users/felix/src/singularite_j/singularite_j_eval.ipynb#W3sZmlsZQ%3D%3D?line=2'>3</a>\u001b[0m     (Integer(\u001b[39m62\u001b[39m), (Integer(\u001b[39m11\u001b[39m), Integer(\u001b[39m7\u001b[39m), Integer(\u001b[39m3\u001b[39m))),\n\u001b[0;32m   (...)\u001b[0m\n\u001b[1;32m      <a href='vscode-notebook-cell:/Users/felix/src/singularite_j/singularite_j_eval.ipynb#W3sZmlsZQ%3D%3D?line=7'>8</a>\u001b[0m     (Integer(\u001b[39m87\u001b[39m), (Integer(\u001b[39m11\u001b[39m), Integer(\u001b[39m5\u001b[39m), Integer(\u001b[39m2\u001b[39m)))\n\u001b[1;32m      <a href='vscode-notebook-cell:/Users/felix/src/singularite_j/singularite_j_eval.ipynb#W3sZmlsZQ%3D%3D?line=8'>9</a>\u001b[0m ]\n\u001b[1;32m     <a href='vscode-notebook-cell:/Users/felix/src/singularite_j/singularite_j_eval.ipynb#W3sZmlsZQ%3D%3D?line=10'>11</a>\u001b[0m \u001b[39mfor\u001b[39;00m (n, xs) \u001b[39min\u001b[39;00m l:\n\u001b[0;32m---> <a href='vscode-notebook-cell:/Users/felix/src/singularite_j/singularite_j_eval.ipynb#W3sZmlsZQ%3D%3D?line=11'>12</a>\u001b[0m     vis_eval(n, xs)\n",
      "\u001b[0;31mNameError\u001b[0m: name 'vis_eval' is not defined"
     ]
    }
   ],
   "source": [
    "l = [\n",
    "    (59, (5, 4, 3)),\n",
    "    (62, (11, 7, 3)),\n",
    "    (71, (13, 3, 2)),\n",
    "    (77, (13, 3, 2)),\n",
    "    (79, (16, 9, 5)),\n",
    "    (83, (7, 3, 2)),\n",
    "    (87, (11, 5, 2))\n",
    "]\n",
    "\n",
    "for (n, xs) in l:\n",
    "    vis_eval(n, xs)"
   ]
  },
  {
   "cell_type": "code",
   "execution_count": null,
   "metadata": {},
   "outputs": [],
   "source": [
    "from singularite import coprime, pairwise_coprime, isJStrict\n",
    "from itertools import combinations\n",
    "\n",
    "g = lambda n: { x for x in range(2, n) if coprime(x, n) }\n",
    "a = 13\n",
    "for b in g(a):\n",
    "    for k in range(1, 40):\n",
    "        n = a+b+k*a*b\n",
    "        c = crt([1, 1], [a, b]) + a*b\n",
    "        if -n%c == 1:\n",
    "            print(n, a, b,c , isJStrict(n, (a, b)), isJStrict(n, (a, b, c)))\n",
    "            vis_eval(n, (a, b, c))"
   ]
  },
  {
   "cell_type": "code",
   "execution_count": 42,
   "metadata": {},
   "outputs": [
    {
     "name": "stdout",
     "output_type": "stream",
     "text": [
      "5 2 3\n",
      "5 2 4\n",
      "5 3 2\n",
      "5 3 4\n",
      "5 4 2\n",
      "5 4 3\n",
      "2 5 3\n",
      "2 5 4\n",
      "2 3 5\n",
      "2 3 4\n",
      "2 4 5\n",
      "2 4 3\n",
      "3 5 2\n",
      "3 5 4\n",
      "3 2 5\n",
      "3 2 4\n",
      "3 4 5\n",
      "3 4 2\n",
      "4 5 2\n",
      "4 5 3\n",
      "4 2 5\n",
      "4 2 3\n",
      "4 3 5\n",
      "4 3 2\n"
     ]
    }
   ],
   "source": [
    "from itertools import permutations\n",
    "\n",
    "def cond(n, a, b, c):\n",
    "    if not all(isJStrict(x, (y, z)) for (x, y, z) in permutations((n, a, b, c), int(3))):\n",
    "        return False\n",
    "    return True\n",
    "\n",
    "for n in range(7):\n",
    "    for (a, b, c) in combinations(g(n), 3):\n",
    "        for (x, y, z) in permutations((n, a, b, c), int(3)):\n",
    "            print(x, y, z)\n",
    "#         if cond(n, a, b, c):\n",
    "#             print(n, a, b, c)\n",
    "#             vis_eval(n, (a, b, c))"
   ]
  }
 ],
 "metadata": {
  "kernelspec": {
   "display_name": "SageMath 9.8",
   "language": "sage",
   "name": "SageMath-9.8"
  },
  "language_info": {
   "codemirror_mode": {
    "name": "ipython",
    "version": 3
   },
   "file_extension": ".py",
   "mimetype": "text/x-python",
   "name": "python",
   "nbconvert_exporter": "python",
   "pygments_lexer": "ipython3",
   "version": "3.11.1"
  },
  "orig_nbformat": 4
 },
 "nbformat": 4,
 "nbformat_minor": 2
}
