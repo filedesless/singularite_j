{
 "cells": [
  {
   "cell_type": "code",
   "execution_count": 1,
   "metadata": {
    "vscode": {
     "languageId": "python"
    }
   },
   "outputs": [
    {
     "data": {
      "application/vnd.jupyter.widget-view+json": {
       "model_id": "95c9ff24192d4b5ca17e5e169a4136f1",
       "version_major": 2,
       "version_minor": 0
      },
      "text/plain": [
       "Interactive function <function vis3d at 0x15ec8b100> with 1 widget\n",
       "  n: IntSlider(value=51, description='n', min=2)"
      ]
     },
     "metadata": {},
     "output_type": "display_data"
    }
   ],
   "source": [
    "from itertools import combinations, permutations\n",
    "from singularite import group, isJStrict\n",
    "\n",
    "@interact\n",
    "def vis3d(n = (2, 100)):\n",
    "    pts = [p for p in combinations(group(n), 3) if isJStrict(n, p)]\n",
    "    return sum ( point(r, size=100) for p in pts for r in permutations(p) )"
   ]
  }
 ],
 "metadata": {
  "kernelspec": {
   "display_name": "SageMath 9.8",
   "language": "sage",
   "name": "SageMath-9.8"
  },
  "language_info": {
   "codemirror_mode": {
    "name": "ipython",
    "version": 3
   },
   "file_extension": ".py",
   "mimetype": "text/x-python",
   "name": "sage",
   "nbconvert_exporter": "python",
   "pygments_lexer": "ipython3",
   "version": "3.11.1"
  },
  "orig_nbformat": 4
 },
 "nbformat": 4,
 "nbformat_minor": 2
}
