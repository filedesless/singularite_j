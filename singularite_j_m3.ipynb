{
 "cells": [
  {
   "cell_type": "code",
   "execution_count": 1,
   "metadata": {},
   "outputs": [
    {
     "data": {
      "application/vnd.jupyter.widget-view+json": {
       "model_id": "d4639499cbd84232874d3375277df474",
       "version_major": 2,
       "version_minor": 0
      },
      "text/plain": [
       "Interactive function <function vis3d at 0x157547100> with 1 widget\n",
       "  n: IntSlider(value=51, description='n', min=2)"
      ]
     },
     "metadata": {},
     "output_type": "display_data"
    }
   ],
   "source": [
    "from itertools import product\n",
    "from singularite import group, isJStrict\n",
    "\n",
    "@interact\n",
    "def vis3d(n = (2, 100)):\n",
    "    pts = [p for p in product(group(n), repeat=3) if isJStrict(n, p)]\n",
    "    return sum ( point(p, size=100) for p in pts )"
   ]
  }
 ],
 "metadata": {
  "kernelspec": {
   "display_name": "SageMath 9.8",
   "language": "sage",
   "name": "SageMath-9.8"
  },
  "language_info": {
   "codemirror_mode": {
    "name": "ipython",
    "version": 3
   },
   "file_extension": ".py",
   "mimetype": "text/x-python",
   "name": "python",
   "nbconvert_exporter": "python",
   "pygments_lexer": "ipython3",
   "version": "3.11.1"
  },
  "orig_nbformat": 4
 },
 "nbformat": 4,
 "nbformat_minor": 2
}
