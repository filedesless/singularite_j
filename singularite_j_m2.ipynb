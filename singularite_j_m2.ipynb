{
 "cells": [
  {
   "cell_type": "code",
   "execution_count": 1,
   "metadata": {
    "vscode": {
     "languageId": "python"
    }
   },
   "outputs": [
    {
     "data": {
      "application/vnd.jupyter.widget-view+json": {
       "model_id": "e291b30004a344319d98901a704b5fec",
       "version_major": 2,
       "version_minor": 0
      },
      "text/plain": [
       "Interactive function <function f at 0x157883420> with 1 widget\n",
       "  n: IntSlider(value=51, description='n', min=3)"
      ]
     },
     "metadata": {},
     "output_type": "display_data"
    }
   ],
   "source": [
    "from singularite import isJStrict, group, isJStrict_\n",
    "from itertools import product\n",
    "\n",
    "@interact\n",
    "def f(n = (3, 100)):\n",
    "    # print(isJStrict_.cache_info())\n",
    "    return sum(point((a, b)) + point((n - a, b), marker='d', rgbcolor=(1,0,0)) \n",
    "               for (a, b) in product(group(n), repeat=2) if a > b > 1 and isJStrict(n, (a, b)))"
   ]
  }
 ],
 "metadata": {
  "kernelspec": {
   "display_name": "SageMath 9.8",
   "language": "sage",
   "name": "SageMath-9.8"
  },
  "language_info": {
   "codemirror_mode": {
    "name": "ipython",
    "version": 3
   },
   "file_extension": ".py",
   "mimetype": "text/x-python",
   "name": "sage",
   "nbconvert_exporter": "python",
   "pygments_lexer": "ipython3",
   "version": "3.11.1"
  },
  "orig_nbformat": 4
 },
 "nbformat": 4,
 "nbformat_minor": 2
}
