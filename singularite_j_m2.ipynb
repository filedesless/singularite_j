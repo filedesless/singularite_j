{
 "cells": [
  {
   "cell_type": "code",
   "execution_count": null,
   "metadata": {},
   "outputs": [],
   "source": [
    "from singularite import isJStrict, group, isJStrict_\n",
    "from itertools import product\n",
    "\n",
    "@interact\n",
    "def f(n = (3, 100)):\n",
    "    print(isJStrict_.cache_info())\n",
    "    return sum(point(p) for p in product(group(n), repeat=2) if isJStrict(n, p))"
   ]
  }
 ],
 "metadata": {
  "kernelspec": {
   "display_name": "SageMath 9.8",
   "language": "sage",
   "name": "SageMath-9.8"
  },
  "language_info": {
   "codemirror_mode": {
    "name": "ipython",
    "version": 3
   },
   "file_extension": ".py",
   "mimetype": "text/x-python",
   "name": "python",
   "nbconvert_exporter": "python",
   "pygments_lexer": "ipython3",
   "version": "3.11.1"
  },
  "orig_nbformat": 4
 },
 "nbformat": 4,
 "nbformat_minor": 2
}
