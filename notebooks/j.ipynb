{
 "cells": [
  {
   "cell_type": "code",
   "execution_count": 33,
   "metadata": {
    "vscode": {
     "languageId": "python"
    }
   },
   "outputs": [
    {
     "name": "stdout",
     "output_type": "stream",
     "text": [
      "7 4 3\n",
      "4 5 7\n",
      "5 6 7\n",
      "6 7 7\n"
     ]
    },
    {
     "data": {
      "text/plain": [
       "False"
      ]
     },
     "execution_count": 33,
     "metadata": {},
     "output_type": "execute_result"
    }
   ],
   "source": [
    "from singularite import pairwise_coprime\n",
    "\n",
    "d = 2\n",
    "\n",
    "def choix(n, a, b):\n",
    "    for k in range(1, d):\n",
    "        for l in range(1, d):\n",
    "            yield n, a + k * n, b + l * n\n",
    "\n",
    "def eclatement(n, a, b):\n",
    "    if a > 1:\n",
    "        yield a, -n % a, b % a\n",
    "    if b > 1:\n",
    "        yield b, a % b, -n % b\n",
    "\n",
    "def isJ(n, a, b):\n",
    "    print(n, a, b)\n",
    "    if a == b == 1:\n",
    "        return True\n",
    "    if not pairwise_coprime([n, a, b]):\n",
    "        return False\n",
    "    if all( any(isJ(*c) for c in choix(*e)) for e in eclatement(n, a, b) ):\n",
    "        return True\n",
    "    return False\n",
    "\n",
    "# isJ(3, 2, 1)\n",
    "# isJ(5, 3, 2)\n",
    "isJ(7, 4, 3)\n",
    "# isJ(5, 4, 3)"
   ]
  }
 ],
 "metadata": {
  "kernelspec": {
   "display_name": "SageMath 9.8",
   "language": "sage",
   "name": "SageMath-9.8"
  },
  "language_info": {
   "codemirror_mode": {
    "name": "ipython",
    "version": 3
   },
   "file_extension": ".py",
   "mimetype": "text/x-python",
   "name": "sage",
   "nbconvert_exporter": "python",
   "pygments_lexer": "ipython3",
   "version": "3.11.1"
  },
  "orig_nbformat": 4
 },
 "nbformat": 4,
 "nbformat_minor": 2
}
