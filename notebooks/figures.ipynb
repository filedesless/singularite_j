{
 "cells": [
  {
   "cell_type": "code",
   "execution_count": 8,
   "metadata": {},
   "outputs": [],
   "source": [
    "# abn\n",
    "l = LabelledBinaryTree([], label='(-n, a_2)_{a_1}')\n",
    "r = LabelledBinaryTree([], label='(a_1, -n)_{a_2}')\n",
    "p = LabelledBinaryTree([l, r], label='(a_1, a_2)_n')\n",
    "view(p)"
   ]
  },
  {
   "cell_type": "code",
   "execution_count": 1,
   "metadata": {},
   "outputs": [],
   "source": [
    "# ban\n",
    "l = LabelledBinaryTree([], label='(-n, a_1)_{a_2}')\n",
    "r = LabelledBinaryTree([], label='(a_2, -n)_{a_1}')\n",
    "p = LabelledBinaryTree([l, r], label='(a_2, a_1)_n')\n",
    "view(p)"
   ]
  },
  {
   "cell_type": "code",
   "execution_count": 2,
   "metadata": {},
   "outputs": [],
   "source": [
    "# ab1n\n",
    "l = LabelledBinaryTree([], label='(-n, a_2)_{a_1}')\n",
    "r = LabelledBinaryTree([], label='(a_1, -n)_{a_2}')\n",
    "p = LabelledBinaryTree([l, r], label='(a_1, a_2, 1)_n')\n",
    "view(p)"
   ]
  },
  {
   "cell_type": "code",
   "execution_count": 4,
   "metadata": {},
   "outputs": [],
   "source": [
    "# abcn\n",
    "l = LabelledOrderedTree([], label='(-n, a_2, a_3)_{a_1}')\n",
    "m = LabelledOrderedTree([], label='(a_1, -n, a_3)_{a_2}')\n",
    "r = LabelledOrderedTree([], label='(a_1, a_2, -n)_{a_3}')\n",
    "p = LabelledOrderedTree([l, m, r], label='(a_1, a_2, a_3)_n')\n",
    "view(p)"
   ]
  }
 ],
 "metadata": {
  "kernelspec": {
   "display_name": "SageMath 9.8",
   "language": "sage",
   "name": "SageMath-9.8"
  },
  "language_info": {
   "codemirror_mode": {
    "name": "ipython",
    "version": 3
   },
   "file_extension": ".py",
   "mimetype": "text/x-python",
   "name": "python",
   "nbconvert_exporter": "python",
   "pygments_lexer": "ipython3",
   "version": "3.11.1"
  },
  "orig_nbformat": 4
 },
 "nbformat": 4,
 "nbformat_minor": 2
}
