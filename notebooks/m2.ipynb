{
 "cells": [
  {
   "cell_type": "code",
   "execution_count": 22,
   "metadata": {},
   "outputs": [
    {
     "data": {
      "application/vnd.jupyter.widget-view+json": {
       "model_id": "151c4a37e8b644dda12871b5798d6fe7",
       "version_major": 2,
       "version_minor": 0
      },
      "text/plain": [
       "Interactive function <function f at 0x153446ca0> with 1 widget\n",
       "  n: IntSlider(value=51, description='n', min=3)"
      ]
     },
     "metadata": {},
     "output_type": "display_data"
    }
   ],
   "source": [
    "from singularite import isJStrict, group, coprime\n",
    "from itertools import product, combinations\n",
    "\n",
    "@interact\n",
    "def f(n = (3, 100)):\n",
    "    return sum(point((a, b), rgbcolor=(0, 1, 0) if a * b > n else (0, 0, 1)) + point((n - a, b), marker='d', rgbcolor=(1,0,0)) \n",
    "            #    for (a, b) in product(group(n), repeat=2) if a > b > 1 and a + b != n and isJStrict(n, (a, b)))\n",
    "               for (b, a) in combinations(group(n), r=2) if b > 1 and a + b != n and isJStrict(n, (a, b)))\n",
    "            #    and coprime(n - a, b))\n",
    "            # for (a, b) in product(group(n), repeat=2) if isJStrict(n, (a, b)))"
   ]
  }
 ],
 "metadata": {
  "kernelspec": {
   "display_name": "SageMath 9.8",
   "language": "sage",
   "name": "SageMath-9.8"
  },
  "language_info": {
   "codemirror_mode": {
    "name": "ipython",
    "version": 3
   },
   "file_extension": ".py",
   "mimetype": "text/x-python",
   "name": "python",
   "nbconvert_exporter": "python",
   "pygments_lexer": "ipython3",
   "version": "3.11.1"
  },
  "orig_nbformat": 4
 },
 "nbformat": 4,
 "nbformat_minor": 2
}
